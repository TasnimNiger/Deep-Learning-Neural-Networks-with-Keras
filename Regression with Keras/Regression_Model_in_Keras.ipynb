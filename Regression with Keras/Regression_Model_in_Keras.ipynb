{
  "cells": [
    {
      "cell_type": "code",
      "execution_count": 1,
      "metadata": {
        "id": "JWRTirCCBiyS"
      },
      "outputs": [],
      "source": [
        "import pandas as pd\n",
        "import numpy as np\n",
        "from sklearn.model_selection import train_test_split\n",
        "from sklearn.metrics import mean_squared_error\n",
        "from tensorflow.keras.models import Sequential\n",
        "from tensorflow.keras.layers import Dense\n",
        "from tensorflow.keras.optimizers import Adam"
      ]
    },
    {
      "cell_type": "markdown",
      "metadata": {
        "id": "yazZT0CoBiyX"
      },
      "source": [
        "# Load and Prepare the Data"
      ]
    },
    {
      "cell_type": "code",
      "execution_count": 2,
      "metadata": {
        "id": "bHsvoh8GBiya"
      },
      "outputs": [],
      "source": [
        "url = \"https://cocl.us/concrete_data\"\n",
        "data = pd.read_csv(url)\n",
        "X = data.drop(columns=['Strength'])  # Predictors\n",
        "y = data['Strength']  # Target variable"
      ]
    },
    {
      "cell_type": "markdown",
      "metadata": {
        "id": "pcCLDdMgBiyb"
      },
      "source": [
        "# Define a Baseline Model"
      ]
    },
    {
      "cell_type": "code",
      "execution_count": 3,
      "metadata": {
        "id": "8fo0MvAIBiyb"
      },
      "outputs": [],
      "source": [
        "def build_model():\n",
        "    model = Sequential()\n",
        "    model.add(Dense(10, activation='relu', input_shape=(X.shape[1],)))\n",
        "    model.add(Dense(1))  # Output layer\n",
        "    model.compile(optimizer=Adam(), loss='mean_squared_error')\n",
        "    return model"
      ]
    },
    {
      "cell_type": "markdown",
      "metadata": {
        "id": "xETWs8z9Biyd"
      },
      "source": [
        "# Training and Evaluation"
      ]
    },
    {
      "cell_type": "code",
      "execution_count": null,
      "metadata": {
        "id": "_Iz5pS8wBiyd"
      },
      "outputs": [],
      "source": [
        "mse_list = []\n",
        "\n",
        "for _ in range(50):\n",
        "    # Split the data\n",
        "    X_train, X_test, y_train, y_test = train_test_split(X, y, test_size=0.3, random_state=None)\n",
        "\n",
        "    # Build and train the model\n",
        "    model = build_model()\n",
        "    model.fit(X_train, y_train, epochs=50, verbose=0)\n",
        "\n",
        "    # Predict and calculate mean squared error\n",
        "    y_pred = model.predict(X_test)\n",
        "    mse = mean_squared_error(y_test, y_pred)\n",
        "    mse_list.append(mse)"
      ]
    },
    {
      "cell_type": "markdown",
      "metadata": {
        "id": "pv4UnNC-Biyf"
      },
      "source": [
        "# Calculate Mean and Standard Deviation"
      ]
    },
    {
      "cell_type": "code",
      "execution_count": 5,
      "metadata": {
        "colab": {
          "base_uri": "https://localhost:8080/"
        },
        "id": "Bis5mWYbBiyg",
        "outputId": "d79e4cc3-8d7c-424a-f11a-c0ed3a18d72d"
      },
      "outputs": [
        {
          "output_type": "stream",
          "name": "stdout",
          "text": [
            "Mean MSE: 391.0767361928823\n",
            "Standard Deviation of MSE: 599.6851981984382\n"
          ]
        }
      ],
      "source": [
        "mse_mean = np.mean(mse_list)\n",
        "mse_std = np.std(mse_list)\n",
        "\n",
        "print(\"Mean MSE:\", mse_mean)\n",
        "print(\"Standard Deviation of MSE:\", mse_std)"
      ]
    },
    {
      "cell_type": "markdown",
      "source": [
        "#Normalize the data"
      ],
      "metadata": {
        "id": "WItpStc3DatG"
      }
    },
    {
      "cell_type": "code",
      "source": [
        "from sklearn.preprocessing import StandardScaler\n"
      ],
      "metadata": {
        "id": "zo3LM4ORCsTY"
      },
      "execution_count": 6,
      "outputs": []
    },
    {
      "cell_type": "markdown",
      "source": [
        "##Update the Experiment with Normalized Data"
      ],
      "metadata": {
        "id": "ELpCrmsgDnHF"
      }
    },
    {
      "cell_type": "code",
      "source": [
        "mse_list_normalized = []\n",
        "\n",
        "for _ in range(50):\n",
        "    # Split the data\n",
        "    X_train, X_test, y_train, y_test = train_test_split(X, y, test_size=0.3, random_state=None)\n",
        "\n",
        "    # Normalize the data\n",
        "    scaler = StandardScaler()\n",
        "    X_train = scaler.fit_transform(X_train)\n",
        "    X_test = scaler.transform(X_test)\n",
        "\n",
        "    # Build and train the model\n",
        "    model = build_model()\n",
        "    model.fit(X_train, y_train, epochs=50, verbose=0)\n",
        "\n",
        "    # Predict and calculate mean squared error\n",
        "    y_pred = model.predict(X_test)\n",
        "    mse = mean_squared_error(y_test, y_pred)\n",
        "    mse_list_normalized.append(mse)\n",
        "\n",
        "# Calculate mean and standard deviation for normalized data\n",
        "mse_mean_normalized = np.mean(mse_list_normalized)\n",
        "mse_std_normalized = np.std(mse_list_normalized)\n",
        "\n",
        "print(\"Mean MSE with Normalized Data:\", mse_mean_normalized)\n",
        "print(\"Standard Deviation of MSE with Normalized Data:\", mse_std_normalized)\n"
      ],
      "metadata": {
        "id": "TXtdRehmDo4Z"
      },
      "execution_count": null,
      "outputs": []
    },
    {
      "cell_type": "code",
      "source": [
        "# Assuming mse_mean, mse_std are the mean and std for unnormalized data (from Part A)\n",
        "# and mse_mean_normalized, mse_std_normalized are the mean and std for normalized data (from Part B)\n",
        "\n",
        "# Comparison Summary\n",
        "print(\"Comparison of Model Performance with and without Normalization\")\n",
        "print(\"-\" * 50)\n",
        "\n",
        "# Mean MSE Comparison\n",
        "print(f\"Mean MSE without Normalization: {mse_mean:.4f}\")\n",
        "print(f\"Mean MSE with Normalization:    {mse_mean_normalized:.4f}\")\n",
        "mean_mse_difference = ((mse_mean - mse_mean_normalized) / mse_mean) * 100\n",
        "print(f\"Percentage improvement in Mean MSE: {mean_mse_difference:.2f}%\\n\")\n",
        "\n",
        "# Standard Deviation of MSE Comparison\n",
        "print(f\"Standard Deviation of MSE without Normalization: {mse_std:.4f}\")\n",
        "print(f\"Standard Deviation of MSE with Normalization:    {mse_std_normalized:.4f}\")\n",
        "std_mse_difference = ((mse_std - mse_std_normalized) / mse_std) * 100\n",
        "print(f\"Percentage improvement in Standard Deviation of MSE: {std_mse_difference:.2f}%\")\n"
      ],
      "metadata": {
        "colab": {
          "base_uri": "https://localhost:8080/"
        },
        "id": "l2kj7wncDxaj",
        "outputId": "d0d50860-84be-4aa5-aa6a-d5d8e08cfc8a"
      },
      "execution_count": 8,
      "outputs": [
        {
          "output_type": "stream",
          "name": "stdout",
          "text": [
            "Comparison of Model Performance with and without Normalization\n",
            "--------------------------------------------------\n",
            "Mean MSE without Normalization: 391.0767\n",
            "Mean MSE with Normalization:    367.5660\n",
            "Percentage improvement in Mean MSE: 6.01%\n",
            "\n",
            "Standard Deviation of MSE without Normalization: 599.6852\n",
            "Standard Deviation of MSE with Normalization:    92.5479\n",
            "Percentage improvement in Standard Deviation of MSE: 84.57%\n"
          ]
        }
      ]
    },
    {
      "cell_type": "markdown",
      "source": [
        "##Update the Training Loop with 100 Epochs"
      ],
      "metadata": {
        "id": "II27aKT3FuCt"
      }
    },
    {
      "cell_type": "code",
      "source": [
        "mse_list_normalized_100_epochs = []\n",
        "\n",
        "for _ in range(50):\n",
        "    # Split the data\n",
        "    X_train, X_test, y_train, y_test = train_test_split(X, y, test_size=0.3, random_state=None)\n",
        "\n",
        "    # Normalize the data\n",
        "    scaler = StandardScaler()\n",
        "    X_train = scaler.fit_transform(X_train)\n",
        "    X_test = scaler.transform(X_test)\n",
        "\n",
        "    # Build and train the model with 100 epochs\n",
        "    model = build_model()\n",
        "    model.fit(X_train, y_train, epochs=100, verbose=0)\n",
        "\n",
        "    # Predict and calculate mean squared error\n",
        "    y_pred = model.predict(X_test)\n",
        "    mse = mean_squared_error(y_test, y_pred)\n",
        "    mse_list_normalized_100_epochs.append(mse)\n",
        "\n",
        "# Calculate mean and standard deviation for normalized data with 100 epochs\n",
        "mse_mean_normalized_100_epochs = np.mean(mse_list_normalized_100_epochs)\n",
        "mse_std_normalized_100_epochs = np.std(mse_list_normalized_100_epochs)\n",
        "\n",
        "print(\"Mean MSE with Normalized Data (100 epochs):\", mse_mean_normalized_100_epochs)\n",
        "print(\"Standard Deviation of MSE with Normalized Data (100 epochs):\", mse_std_normalized_100_epochs)\n"
      ],
      "metadata": {
        "id": "fJ_n0AMbFdVB"
      },
      "execution_count": null,
      "outputs": []
    },
    {
      "cell_type": "code",
      "source": [
        "# Comparison Summary\n",
        "print(\"\\nComparison of Model Performance with 50 and 100 Epochs (Normalized Data)\")\n",
        "print(\"-\" * 60)\n",
        "\n",
        "# Mean MSE Comparison\n",
        "print(f\"Mean MSE with Normalized Data (50 epochs):   {mse_mean_normalized:.4f}\")\n",
        "print(f\"Mean MSE with Normalized Data (100 epochs):  {mse_mean_normalized_100_epochs:.4f}\")\n",
        "mean_mse_difference_epochs = ((mse_mean_normalized - mse_mean_normalized_100_epochs) / mse_mean_normalized) * 100\n",
        "print(f\"Percentage improvement in Mean MSE (100 epochs vs 50 epochs): {mean_mse_difference_epochs:.2f}%\\n\")\n",
        "\n",
        "# Standard Deviation of MSE Comparison\n",
        "print(f\"Standard Deviation of MSE with Normalized Data (50 epochs):   {mse_std_normalized:.4f}\")\n",
        "print(f\"Standard Deviation of MSE with Normalized Data (100 epochs):  {mse_std_normalized_100_epochs:.4f}\")\n",
        "std_mse_difference_epochs = ((mse_std_normalized - mse_std_normalized_100_epochs) / mse_std_normalized) * 100\n",
        "print(f\"Percentage improvement in Standard Deviation of MSE (100 epochs vs 50 epochs): {std_mse_difference_epochs:.2f}%\")\n"
      ],
      "metadata": {
        "colab": {
          "base_uri": "https://localhost:8080/"
        },
        "id": "exNxO9VMFhfc",
        "outputId": "5f99d446-e2d6-4a0a-aa76-9e405a31a37c"
      },
      "execution_count": 10,
      "outputs": [
        {
          "output_type": "stream",
          "name": "stdout",
          "text": [
            "\n",
            "Comparison of Model Performance with 50 and 100 Epochs (Normalized Data)\n",
            "------------------------------------------------------------\n",
            "Mean MSE with Normalized Data (50 epochs):   367.5660\n",
            "Mean MSE with Normalized Data (100 epochs):  167.0586\n",
            "Percentage improvement in Mean MSE (100 epochs vs 50 epochs): 54.55%\n",
            "\n",
            "Standard Deviation of MSE with Normalized Data (50 epochs):   92.5479\n",
            "Standard Deviation of MSE with Normalized Data (100 epochs):  22.3922\n",
            "Percentage improvement in Standard Deviation of MSE (100 epochs vs 50 epochs): 75.80%\n"
          ]
        }
      ]
    },
    {
      "cell_type": "markdown",
      "source": [
        "##Update the Model Architecture with three hidden layer"
      ],
      "metadata": {
        "id": "yh9C5OPAH_F4"
      }
    },
    {
      "cell_type": "code",
      "source": [
        "def build_model_three_layers():\n",
        "    model = Sequential()\n",
        "    model.add(Dense(10, activation='relu', input_shape=(X.shape[1],)))\n",
        "    model.add(Dense(10, activation='relu'))  # Second hidden layer\n",
        "    model.add(Dense(10, activation='relu'))  # Third hidden layer\n",
        "    model.add(Dense(1))  # Output layer\n",
        "    model.compile(optimizer=Adam(), loss='mean_squared_error')\n",
        "    return model\n"
      ],
      "metadata": {
        "id": "FczagPAUIA4P"
      },
      "execution_count": 11,
      "outputs": []
    },
    {
      "cell_type": "code",
      "source": [
        "mse_list_three_layers = []\n",
        "\n",
        "for _ in range(50):\n",
        "    # Split the data\n",
        "    X_train, X_test, y_train, y_test = train_test_split(X, y, test_size=0.3, random_state=None)\n",
        "\n",
        "    # Normalize the data\n",
        "    scaler = StandardScaler()\n",
        "    X_train = scaler.fit_transform(X_train)\n",
        "    X_test = scaler.transform(X_test)\n",
        "\n",
        "    # Build and train the model with three hidden layers\n",
        "    model = build_model_three_layers()\n",
        "    model.fit(X_train, y_train, epochs=50, verbose=0)\n",
        "\n",
        "    # Predict and calculate mean squared error\n",
        "    y_pred = model.predict(X_test)\n",
        "    mse = mean_squared_error(y_test, y_pred)\n",
        "    mse_list_three_layers.append(mse)\n",
        "\n",
        "# Calculate mean and standard deviation for model with three hidden layers\n",
        "mse_mean_three_layers = np.mean(mse_list_three_layers)\n",
        "mse_std_three_layers = np.std(mse_list_three_layers)\n",
        "\n",
        "print(\"Mean MSE with Three Hidden Layers:\", mse_mean_three_layers)\n",
        "print(\"Standard Deviation of MSE with Three Hidden Layers:\", mse_std_three_layers)\n"
      ],
      "metadata": {
        "id": "XNQUe39qIHlV"
      },
      "execution_count": null,
      "outputs": []
    },
    {
      "cell_type": "code",
      "source": [
        "# Comparison Summary\n",
        "print(\"\\nComparison of Model Performance with One vs. Three Hidden Layers (Normalized Data)\")\n",
        "print(\"-\" * 60)\n",
        "\n",
        "# Mean MSE Comparison\n",
        "print(f\"Mean MSE with One Hidden Layer (50 epochs): {mse_mean_normalized:.4f}\")\n",
        "print(f\"Mean MSE with Three Hidden Layers (50 epochs): {mse_mean_three_layers:.4f}\")\n",
        "mean_mse_difference_layers = ((mse_mean_normalized - mse_mean_three_layers) / mse_mean_normalized) * 100\n",
        "print(f\"Percentage improvement in Mean MSE (Three vs One Layer): {mean_mse_difference_layers:.2f}%\\n\")\n",
        "\n",
        "# Standard Deviation of MSE Comparison\n",
        "print(f\"Standard Deviation of MSE with One Hidden Layer (50 epochs): {mse_std_normalized:.4f}\")\n",
        "print(f\"Standard Deviation of MSE with Three Hidden Layers (50 epochs): {mse_std_three_layers:.4f}\")\n",
        "std_mse_difference_layers = ((mse_std_normalized - mse_std_three_layers) / mse_std_normalized) * 100\n",
        "print(f\"Percentage improvement in Standard Deviation of MSE (Three vs One Layer): {std_mse_difference_layers:.2f}%\")\n"
      ],
      "metadata": {
        "colab": {
          "base_uri": "https://localhost:8080/"
        },
        "id": "lWRFoDmcILgo",
        "outputId": "b48d948f-d0f6-4325-c41c-72af143de69b"
      },
      "execution_count": 13,
      "outputs": [
        {
          "output_type": "stream",
          "name": "stdout",
          "text": [
            "\n",
            "Comparison of Model Performance with One vs. Three Hidden Layers (Normalized Data)\n",
            "------------------------------------------------------------\n",
            "Mean MSE with One Hidden Layer (50 epochs): 367.5660\n",
            "Mean MSE with Three Hidden Layers (50 epochs): 129.3269\n",
            "Percentage improvement in Mean MSE (Three vs One Layer): 64.82%\n",
            "\n",
            "Standard Deviation of MSE with One Hidden Layer (50 epochs): 92.5479\n",
            "Standard Deviation of MSE with Three Hidden Layers (50 epochs): 13.1478\n",
            "Percentage improvement in Standard Deviation of MSE (Three vs One Layer): 85.79%\n"
          ]
        }
      ]
    },
    {
      "cell_type": "code",
      "source": [],
      "metadata": {
        "id": "LQ2vVeI4IS-h"
      },
      "execution_count": null,
      "outputs": []
    }
  ],
  "metadata": {
    "kernelspec": {
      "display_name": "Python 3",
      "language": "python",
      "name": "python3"
    },
    "language_info": {
      "codemirror_mode": {
        "name": "ipython",
        "version": 3
      },
      "file_extension": ".py",
      "mimetype": "text/x-python",
      "name": "python",
      "nbconvert_exporter": "python",
      "pygments_lexer": "ipython3",
      "version": "3.7.3"
    },
    "colab": {
      "provenance": []
    }
  },
  "nbformat": 4,
  "nbformat_minor": 0
}